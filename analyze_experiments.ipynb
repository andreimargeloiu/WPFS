{
 "cells": [
  {
   "cell_type": "markdown",
   "metadata": {},
   "source": [
    "Demo script to analyze experiments results"
   ]
  },
  {
   "cell_type": "code",
   "execution_count": null,
   "metadata": {},
   "outputs": [],
   "source": [
    "import os\n",
    "import pandas as pd"
   ]
  },
  {
   "cell_type": "code",
   "execution_count": null,
   "metadata": {},
   "outputs": [],
   "source": [
    "experiment_name = \"test\" # USER: provide experiment_name"
   ]
  },
  {
   "cell_type": "code",
   "execution_count": null,
   "metadata": {},
   "outputs": [],
   "source": [
    "# itearte all folders in the experiment folder\n",
    "train_balanced_accs, valid_balanced_acc, test_balanced_acc = [], [], []\n",
    "\n",
    "for folder in os.listdir(os.path.join('logs', experiment_name)):\n",
    "\tmetrics = pd.read_csv(os.path.join('logs', experiment_name, folder, 'metrics.csv'))\n",
    "\n",
    "\t# each column 'bestmodel_train/bestmodel_valid/bestmodel_test' contains only one non-zero entry\n",
    "\t# \twhich is computed at the end of the experiment\n",
    "\ttrain_balanced_accs.append(metrics['bestmodel_train/balanced_accuracy'].max())\n",
    "\tvalid_balanced_acc.append(metrics['bestmodel_valid/balanced_accuracy'].max())\n",
    "\ttest_balanced_acc.append(metrics['bestmodel_test/balanced_accuracy'].max())\n",
    "\n",
    "print(f\"Average across all {len(train_balanced_accs)} experiments:\")\n",
    "print(f\"train_balanced_accs mean: %.2f\" % ((sum(train_balanced_accs)/len(train_balanced_accs))*100))\n",
    "print(f\"valid_balanced_acc mean: %.2f\" % ((sum(valid_balanced_acc)/len(valid_balanced_acc))*100))\n",
    "print(f\"test_balanced_acc mean: %.2f\" % ((sum(test_balanced_acc)/len(test_balanced_acc))*100))"
   ]
  }
 ],
 "metadata": {
  "interpreter": {
   "hash": "ba94622b8cce9d72f41975dfa05399a969597365498ddf2f52110973e858095a"
  },
  "kernelspec": {
   "display_name": "Python 3.7.9 ('low-data')",
   "language": "python",
   "name": "python3"
  },
  "language_info": {
   "codemirror_mode": {
    "name": "ipython",
    "version": 3
   },
   "file_extension": ".py",
   "mimetype": "text/x-python",
   "name": "python",
   "nbconvert_exporter": "python",
   "pygments_lexer": "ipython3",
   "version": "3.7.9"
  },
  "orig_nbformat": 4
 },
 "nbformat": 4,
 "nbformat_minor": 2
}
